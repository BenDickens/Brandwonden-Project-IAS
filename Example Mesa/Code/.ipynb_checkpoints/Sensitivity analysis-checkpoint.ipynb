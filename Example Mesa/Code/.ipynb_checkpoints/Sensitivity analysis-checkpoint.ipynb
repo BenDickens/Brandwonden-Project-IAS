{
 "cells": [
  {
   "cell_type": "markdown",
   "metadata": {},
   "source": [
    "# OFAT SA"
   ]
  },
  {
   "cell_type": "code",
   "execution_count": 2,
   "metadata": {},
   "outputs": [
    {
     "name": "stderr",
     "output_type": "stream",
     "text": [
      "25it [00:22,  1.16it/s]"
     ]
    },
    {
     "name": "stdout",
     "output_type": "stream",
     "text": [
      "    beta_component  Run  community_no  opinions  preference_A  preference_B  \\\n",
      "0              0.0    0            12      0.44      0.640233      0.570308   \n",
      "1              0.0    1            12      0.41      0.574105      0.543072   \n",
      "2              0.0    2            11      0.54      0.619994      0.606758   \n",
      "3              0.0    3            13      0.33      0.596500      0.556344   \n",
      "4              0.0    4            11      0.38      0.616805      0.587034   \n",
      "5              0.2    5            11      0.56      0.543490      0.519348   \n",
      "6              0.2    6            12      0.35      0.606345      0.692058   \n",
      "7              0.2    7            12      0.66      0.581675      0.563113   \n",
      "8              0.2    8            13      0.67      0.584152      0.490269   \n",
      "9              0.2    9            15      0.63      0.611712      0.517089   \n",
      "10             0.4   10            12      0.44      0.584451      0.539661   \n",
      "11             0.4   11            13      0.64      0.552346      0.562701   \n",
      "12             0.4   12            13      0.44      0.650096      0.571475   \n",
      "13             0.4   13            12      0.55      0.521870      0.565996   \n",
      "14             0.4   14            11      0.62      0.510445      0.601370   \n",
      "15             0.6   15            11      0.76      0.541179      0.580752   \n",
      "16             0.6   16            12      0.50      0.582521      0.563479   \n",
      "17             0.6   17            15      0.60      0.616207      0.574303   \n",
      "18             0.6   18            13      0.37      0.597288      0.617967   \n",
      "19             0.6   19            11      0.58      0.534750      0.559429   \n",
      "20             0.8   20            12      0.29      0.507005      0.599238   \n",
      "21             0.8   21            10      0.51      0.570587      0.525388   \n",
      "22             0.8   22            14      0.50      0.487323      0.496883   \n",
      "23             0.8   23            12      0.18      0.512601      0.569315   \n",
      "24             0.8   24            12      0.53      0.539110      0.583863   \n",
      "\n",
      "    preferences  radical_opinions  network_type    N  no_of_neighbors  \\\n",
      "0      0.609466              0.27             1  100                2   \n",
      "1      0.561382              0.27             1  100                2   \n",
      "2      0.612847              0.26             1  100                2   \n",
      "3      0.583249              0.24             1  100                2   \n",
      "4      0.605492              0.22             1  100                2   \n",
      "5      0.529970              0.26             1  100                2   \n",
      "6      0.636344              0.34             1  100                2   \n",
      "7      0.569424              0.25             1  100                2   \n",
      "8      0.521251              0.19             1  100                2   \n",
      "9      0.552100              0.26             1  100                2   \n",
      "10     0.564744              0.29             1  100                2   \n",
      "11     0.558973              0.29             1  100                2   \n",
      "12     0.615503              0.32             1  100                2   \n",
      "13     0.546140              0.27             1  100                2   \n",
      "14     0.566819              0.22             1  100                2   \n",
      "15     0.571255              0.30             1  100                2   \n",
      "16     0.573000              0.28             1  100                2   \n",
      "17     0.591064              0.29             1  100                2   \n",
      "18     0.604939              0.31             1  100                2   \n",
      "19     0.549064              0.20             1  100                2   \n",
      "20     0.533753              0.26             1  100                2   \n",
      "21     0.547536              0.22             1  100                2   \n",
      "22     0.492103              0.18             1  100                2   \n",
      "23     0.522809              0.18             1  100                2   \n",
      "24     0.562829              0.26             1  100                2   \n",
      "\n",
      "    similarity_treshold  social_influence  swingers  malicious_N  \n",
      "0                   0.0               0.0         0            0  \n",
      "1                   0.0               0.0         0            0  \n",
      "2                   0.0               0.0         0            0  \n",
      "3                   0.0               0.0         0            0  \n",
      "4                   0.0               0.0         0            0  \n",
      "5                   0.0               0.0         0            0  \n",
      "6                   0.0               0.0         0            0  \n",
      "7                   0.0               0.0         0            0  \n",
      "8                   0.0               0.0         0            0  \n",
      "9                   0.0               0.0         0            0  \n",
      "10                  0.0               0.0         0            0  \n",
      "11                  0.0               0.0         0            0  \n",
      "12                  0.0               0.0         0            0  \n",
      "13                  0.0               0.0         0            0  \n",
      "14                  0.0               0.0         0            0  \n",
      "15                  0.0               0.0         0            0  \n",
      "16                  0.0               0.0         0            0  \n",
      "17                  0.0               0.0         0            0  \n",
      "18                  0.0               0.0         0            0  \n",
      "19                  0.0               0.0         0            0  \n",
      "20                  0.0               0.0         0            0  \n",
      "21                  0.0               0.0         0            0  \n",
      "22                  0.0               0.0         0            0  \n",
      "23                  0.0               0.0         0            0  \n",
      "24                  0.0               0.0         0            0  \n"
     ]
    },
    {
     "name": "stderr",
     "output_type": "stream",
     "text": [
      "\n"
     ]
    }
   ],
   "source": [
    "%matplotlib inline\n",
    "from model import *\n",
    "from agents import *\n",
    "from globals import *\n",
    "from server import *\n",
    "from schedule import *\n",
    "from utility import *\n",
    "from SALib.sample import saltelli\n",
    "from mesa.batchrunner import BatchRunner\n",
    "from SALib.analyze import sobol\n",
    "import pandas as pd\n",
    "import numpy as np\n",
    "import matplotlib.pyplot as plt\n",
    "from itertools import combinations\n",
    "from IPython.display import clear_output\n",
    "\n",
    "fixed_params = {\n",
    "    \"network_type\": 1,\n",
    "    \"N\": 100,\n",
    "    \"no_of_neighbors\": 2,\n",
    "    #\"beta_component\": 0.15,\n",
    "    \"similarity_treshold\": 0.0,\n",
    "    \"social_influence\": 0.0,\n",
    "    \"swingers\": 0,\n",
    "    \"malicious_N\":0\n",
    "}\n",
    "\n",
    "variable_params = {\n",
    "    #\"N\": range(100, 20, 50),\n",
    "    #\"no_of_neighbors\": range(1, 3),\n",
    "    \"beta_component\": np.arange(0.0, 1.0, 0.2),\n",
    "    #\"similarity_treshold\": np.arange(0.0, 1.0, 0.5),\n",
    "    #\"social_influence\": np.arange(0.0, 1.0, 0.5),\n",
    "    #\"swingers\": range(0, 3)\n",
    "}\n",
    "\n",
    "\n",
    "# Set the repetitions, the amount of steps, and the amount of distinct values per variable\n",
    "replicates = 5\n",
    "max_steps = 20\n",
    "\n",
    "# Set the outputs\n",
    "model_reporters = {\n",
    "                \"preferences\": compute_preferences,\n",
    "                \"opinions\": compute_opinions,\n",
    "                \"preference_A\": compute_preference_A,\n",
    "                \"preference_B\": compute_preference_B,\n",
    "                \"radical_opinions\": compute_radical_opinions,\n",
    "                \"community_no\": community_no,\n",
    "}\n",
    "\n",
    "data = {}\n",
    "\n",
    "  \n",
    "batch = BatchRunner(Network, \n",
    "                    max_steps=max_steps,\n",
    "                    iterations=replicates,\n",
    "                    fixed_parameters=fixed_params,\n",
    "                    variable_parameters=variable_params,\n",
    "                    model_reporters=model_reporters,\n",
    "                    display_progress=True)\n",
    "    \n",
    "batch.run_all()\n",
    "data = batch.get_model_vars_dataframe()\n",
    "\n",
    "#print data\n",
    "print(data)"
   ]
  },
  {
   "cell_type": "code",
   "execution_count": 3,
   "metadata": {},
   "outputs": [
    {
     "data": {
      "image/png": "[encoded data removed]",
      "text/plain": [
       "<Figure size 432x288 with 2 Axes>"
      ]
     },
     "metadata": {
      "needs_background": "light"
     },
     "output_type": "display_data"
    }
   ],
   "source": [
    "# Example plots for varying beta component\n",
    "\n",
    "replicates = 5\n",
    "distinct_samples = 5\n",
    "\n",
    "beta_component = np.arange(0.0, 1.0, 0.2)\n",
    "\n",
    "# community number\n",
    "count=0\n",
    "list_mean_community_no = []\n",
    "list_err_community_no = []\n",
    "for i in range(distinct_samples):\n",
    "    community_no = []\n",
    "    for j in range(replicates):\n",
    "        community_no.append(data.community_no[count + j])\n",
    "    count = count + j + 1\n",
    "    mean = np.mean(community_no)\n",
    "    std = np.std(community_no)\n",
    "    err = 1.96 * std / np.sqrt(replicates)\n",
    "    list_mean_community_no.append(mean)\n",
    "    list_err_community_no.append(err)\n",
    "\n",
    "# radical opinions\n",
    "count=0\n",
    "list_mean_radical_opinions = []\n",
    "list_err_radical_opinions = []\n",
    "for i in range(distinct_samples):\n",
    "    radical_opinions = []\n",
    "    for j in range(replicates):\n",
    "        radical_opinions.append(data.radical_opinions[count + j])\n",
    "    count = count + j + 1\n",
    "    mean = np.mean(radical_opinions)\n",
    "    std = np.std(radical_opinions)\n",
    "    err = 1.96 * std / np.sqrt(replicates)\n",
    "    list_mean_radical_opinions.append(mean)\n",
    "    list_err_radical_opinions.append(err)\n",
    "\n",
    "\n",
    "ax1 = plt.subplot(211, xticklabels=[])\n",
    "plt.errorbar(beta_component, list_mean_community_no, yerr=list_err_community_no, marker='s', linestyle='None')\n",
    "plt.ylabel('community number')\n",
    "\n",
    "ax2 = plt.subplot(212, sharex = ax1)\n",
    "plt.errorbar(beta_component, list_mean_radical_opinions, yerr=list_err_radical_opinions, marker='s', linestyle='None')\n",
    "plt.xlabel('beta component')\n",
    "plt.ylabel('radical opinions')\n",
    "\n",
    "plt.subplots_adjust(hspace=.0)\n",
    "plt.show()"
   ]
  },
  {
   "cell_type": "markdown",
   "metadata": {},
   "source": [
    "# Sobol SA"
   ]
  },
  {
   "cell_type": "markdown",
   "metadata": {},
   "source": [
    "I also tried sobol sensitivity analysis, but this doesn't work (yet)..."
   ]
  },
  {
   "cell_type": "code",
   "execution_count": null,
   "metadata": {},
   "outputs": [
    {
     "name": "stdout",
     "output_type": "stream",
     "text": [
      "0.08% done\n",
      "Average duration per iteration: 49.44127440452576 seconds.\n",
      "Expected time till finish:  16 hours and  28  minutes.\n"
     ]
    }
   ],
   "source": [
    "#### %matplotlib inline\n",
    "from model import *\n",
    "from agents import *\n",
    "from globals import *\n",
    "from server import *\n",
    "from schedule import *\n",
    "from utility import *\n",
    "from SALib.sample import saltelli\n",
    "from mesa.batchrunner import BatchRunner, BatchRunnerMP\n",
    "import pathos\n",
    "from SALib.analyze import sobol\n",
    "import pandas as pd\n",
    "import numpy as np\n",
    "import matplotlib.pyplot as plt\n",
    "from itertools import combinations\n",
    "from IPython.display import clear_output\n",
    "import time\n",
    "\n",
    "# We define our variables and bounds\n",
    "\n",
    "fixed_params = {\n",
    "    \"network_type\": 1\n",
    "}\n",
    "\n",
    "problem = {\n",
    "    'num_vars': 5,\n",
    "    'names': ['no_of_neighbors', 'similarity_treshold', 'social_influence', 'swingers', 'beta_component'],\n",
    "    'bounds': [[2, 5], [0.01, 1.0], [0.01, 1.0], [1, 5], [0.1,1]]\n",
    "}\n",
    "\n",
    "# Set the repetitions, the amount of steps, and the amount of distinct values per variable\n",
    "replicates = 20\n",
    "max_steps = 200\n",
    "distinct_samples = 6\n",
    "\n",
    "# We get all our samples here\n",
    "param_values = saltelli.sample(problem, distinct_samples)\n",
    "# print(param_values)\n",
    "\n",
    "# Set the outputs\n",
    "model_reporters = {\n",
    "#                 \"preferences\": compute_preferences,\n",
    "                \"opinions\": compute_opinions,\n",
    "#                 \"preference_A\": compute_preference_A,\n",
    "#                 \"preference_B\": compute_preference_B,\n",
    "                \"radical_opinions\": compute_radical_opinions,\n",
    "                \"Echo_Chambers\": echo_no,\n",
    "                \"Silent_Spiral\": compute_silent_spiral\n",
    "#                 \"community_no\": community_no,\n",
    "}\n",
    "\n",
    "\n",
    "# BatchRunner\n",
    "batch = BatchRunnerMP(Network, \n",
    "                    max_steps=max_steps,\n",
    "                    fixed_parameters=fixed_params,\n",
    "                    variable_parameters={name:[] for name in problem['names']},\n",
    "                    model_reporters=model_reporters, nr_processes=8)\n",
    "times = []\n",
    "count = 0\n",
    "for i in range(replicates):\n",
    "    for vals in param_values:\n",
    "        start = time.time()\n",
    "        # Change parameters that should be integers\n",
    "        vals = list(vals)\n",
    "#         vals[2] = int(vals[2])\n",
    "\n",
    "        # Transform to dict with parameter names and their values\n",
    "        variable_parameters = {}\n",
    "        for name, val in zip(problem['names'], vals):\n",
    "            variable_parameters[name] = val\n",
    "        variable_parameters['network_type']=1\n",
    "        variable_parameters['malicious_N']=0\n",
    "        variable_parameters['N']=300\n",
    "        variable_parameters['echo_threshold']=0.25\n",
    "        variable_parameters['beta_component']=0.23\n",
    "        variable_parameters['no_of_neighbors']=int(variable_parameters['no_of_neighbors'])\n",
    "        variable_parameters['swingers']=int(variable_parameters['swingers'])\n",
    "#         print(variable_parameters)\n",
    "#         print(variable_parameters)\n",
    "        batch.run_iteration(variable_parameters, tuple(vals), count)\n",
    "        count += 1\n",
    "\n",
    "        clear_output()\n",
    "        print(f'{count / (len(param_values) * (replicates)) * 100:.2f}% done')\n",
    "        times.append(time.time() - start)\n",
    "        meantime = np.mean(times)\n",
    "        print('Average duration per iteration: %s seconds.'%str(meantime))\n",
    "        nectime = ((len(param_values) * (replicates))-count)*meantime\n",
    "        print('Expected time till finish: ', int(nectime/3600), 'hours and ', int((nectime%3600)/60), ' minutes.')\n",
    "        \n",
    "        \n",
    "    \n",
    "data = batch.get_model_vars_dataframe()\n",
    "print(data)"
   ]
  },
  {
   "cell_type": "code",
   "execution_count": 13,
   "metadata": {},
   "outputs": [
    {
     "name": "stdout",
     "output_type": "stream",
     "text": [
      "Parameter S1 S1_conf ST ST_conf\n",
      "no_of_neighbors -0.183595 0.302669 1.000511 0.423731\n",
      "similarity_treshold -0.064682 0.406379 2.109866 0.957907\n",
      "social_influence -0.174218 0.356847 1.279763 0.693996\n",
      "swingers -0.136370 0.373179 2.117160 1.020333\n",
      "\n",
      "Parameter_1 Parameter_2 S2 S2_conf\n",
      "no_of_neighbors similarity_treshold 0.423826 1.083983\n",
      "no_of_neighbors social_influence 0.617704 1.267837\n",
      "no_of_neighbors swingers 0.257975 0.768586\n",
      "similarity_treshold social_influence -0.066647 0.537535\n",
      "similarity_treshold swingers -0.188478 0.577707\n",
      "social_influence swingers 0.280392 0.615108\n",
      "Parameter S1 S1_conf ST ST_conf\n",
      "no_of_neighbors -0.073984 0.314740 0.575576 0.307883\n",
      "similarity_treshold 0.035635 0.146010 0.155824 0.153323\n",
      "social_influence 0.733606 0.475488 0.947833 0.465044\n",
      "swingers 0.023799 0.108380 0.102590 0.102517\n",
      "\n",
      "Parameter_1 Parameter_2 S2 S2_conf\n",
      "no_of_neighbors similarity_treshold 0.189487 0.471529\n",
      "no_of_neighbors social_influence 0.317259 0.850658\n",
      "no_of_neighbors swingers 0.350195 0.694623\n",
      "similarity_treshold social_influence -0.063729 0.371978\n",
      "similarity_treshold swingers -0.011581 0.309030\n",
      "social_influence swingers -0.317502 0.626941\n"
     ]
    },
    {
     "name": "stderr",
     "output_type": "stream",
     "text": [
      "/usr/lib/python3.7/site-packages/ipykernel_launcher.py:1: FutureWarning: Method .as_matrix will be removed in a future version. Use .values instead.\n",
      "  \"\"\"Entry point for launching an IPython kernel.\n",
      "/usr/lib/python3.7/site-packages/ipykernel_launcher.py:2: FutureWarning: Method .as_matrix will be removed in a future version. Use .values instead.\n",
      "  \n"
     ]
    }
   ],
   "source": [
    "opinions = sobol.analyze(problem, data['opinions'].as_matrix(), print_to_console=True)\n",
    "radical_opinions = sobol.analyze(problem, data['radical_opinions'].as_matrix(), print_to_console=True)"
   ]
  },
  {
   "cell_type": "code",
   "execution_count": 14,
   "metadata": {},
   "outputs": [],
   "source": [
    "def plot_index(s, params, i, title=''):\n",
    "    \"\"\"\n",
    "    Creates a plot for Sobol sensitivity analysis that shows the contributions\n",
    "    of each parameter to the global sensitivity.\n",
    "\n",
    "    Args:\n",
    "        s (dict): dictionary {'S#': dict, 'S#_conf': dict} of dicts that hold\n",
    "            the values for a set of parameters\n",
    "        params (list): the parameters taken from s\n",
    "        i (str): string that indicates what order the sensitivity is.\n",
    "        title (str): title for the plot\n",
    "    \"\"\"\n",
    "\n",
    "    if i == '2':\n",
    "        p = len(params)\n",
    "        params = list(combinations(params, 2))\n",
    "        indices = s['S' + i].reshape((p ** 2))\n",
    "        indices = indices[~np.isnan(indices)]\n",
    "        errors = s['S' + i + '_conf'].reshape((p ** 2))\n",
    "        errors = errors[~np.isnan(errors)]\n",
    "    else:\n",
    "        indices = s['S' + i]\n",
    "        errors = s['S' + i + '_conf']\n",
    "        plt.figure()\n",
    "\n",
    "    l = len(indices)\n",
    "\n",
    "    plt.title(title)\n",
    "    plt.ylim([-0.2, len(indices) - 1 + 0.2])\n",
    "    plt.yticks(range(l), params)\n",
    "    plt.errorbar(indices, range(l), xerr=errors, linestyle='None', marker='o')\n",
    "    plt.axvline(0, c='k')"
   ]
  },
  {
   "cell_type": "code",
   "execution_count": 15,
   "metadata": {},
   "outputs": [
    {
     "data": {
      "image/png": "[encoded data removed]",
      "text/plain": [
       "<Figure size 432x288 with 1 Axes>"
      ]
     },
     "metadata": {
      "needs_background": "light"
     },
     "output_type": "display_data"
    },
    {
     "data": {
      "image/png": "[encoded data removed]",
      "text/plain": [
       "<Figure size 432x288 with 1 Axes>"
      ]
     },
     "metadata": {
      "needs_background": "light"
     },
     "output_type": "display_data"
    },
    {
     "data": {
      "image/png": "[encoded data removed]",
      "text/plain": [
       "<Figure size 432x288 with 1 Axes>"
      ]
     },
     "metadata": {
      "needs_background": "light"
     },
     "output_type": "display_data"
    },
    {
     "data": {
      "image/png": "[encoded data removed]",
      "text/plain": [
       "<Figure size 432x288 with 1 Axes>"
      ]
     },
     "metadata": {
      "needs_background": "light"
     },
     "output_type": "display_data"
    },
    {
     "data": {
      "image/png": "[encoded data removed]",
      "text/plain": [
       "<Figure size 432x288 with 1 Axes>"
      ]
     },
     "metadata": {
      "needs_background": "light"
     },
     "output_type": "display_data"
    },
    {
     "data": {
      "image/png": "[encoded data removed]",
      "text/plain": [
       "<Figure size 432x288 with 1 Axes>"
      ]
     },
     "metadata": {
      "needs_background": "light"
     },
     "output_type": "display_data"
    }
   ],
   "source": [
    "for Si in (opinions, radical_opinions):\n",
    "    # First order\n",
    "    plot_index(Si, problem['names'], '1', 'First order sensitivity')\n",
    "    plt.savefig('a')\n",
    "    plt.show()\n",
    "\n",
    "    # Second order\n",
    "    plot_index(Si, problem['names'], '2', 'Second order sensitivity')\n",
    "    plt.show()\n",
    "\n",
    "    # Total order\n",
    "    plot_index(Si, problem['names'], 'T', 'Total order sensitivity')\n",
    "    plt.show()"
   ]
  },
  {
   "cell_type": "code",
   "execution_count": null,
   "metadata": {},
   "outputs": [],
   "source": []
  }
 ],
 "metadata": {
  "kernelspec": {
   "display_name": "Python 3",
   "language": "python",
   "name": "python3"
  },
  "language_info": {
   "codemirror_mode": {
    "name": "ipython",
    "version": 3
   },
   "file_extension": ".py",
   "mimetype": "text/x-python",
   "name": "python",
   "nbconvert_exporter": "python",
   "pygments_lexer": "ipython3",
   "version": "3.6.4"
  },
  "varInspector": {
   "cols": {
    "lenName": 16,
    "lenType": 16,
    "lenVar": 40
   },
   "kernels_config": {
    "python": {
     "delete_cmd_postfix": "",
     "delete_cmd_prefix": "del ",
     "library": "var_list.py",
     "varRefreshCmd": "print(var_dic_list())"
    },
    "r": {
     "delete_cmd_postfix": ") ",
     "delete_cmd_prefix": "rm(",
     "library": "var_list.r",
     "varRefreshCmd": "cat(var_dic_list()) "
    }
   },
   "types_to_exclude": [
    "module",
    "function",
    "builtin_function_or_method",
    "instance",
    "_Feature"
   ],
   "window_display": false
  }
 },
 "nbformat": 4,
 "nbformat_minor": 2
}
