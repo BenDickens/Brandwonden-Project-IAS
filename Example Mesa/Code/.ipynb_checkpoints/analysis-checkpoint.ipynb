{
 "cells": [
  {
   "cell_type": "code",
   "execution_count": 6,
   "metadata": {},
   "outputs": [],
   "source": [
    "from model import *\n",
    "from agents import *\n",
    "from globals import *\n",
    "from server import *\n",
    "from schedule import *\n",
    "from utility import *\n",
    "\n"
   ]
  },
  {
   "cell_type": "code",
   "execution_count": 8,
   "metadata": {
    "scrolled": false
   },
   "outputs": [
    {
     "name": "stderr",
     "output_type": "stream",
     "text": [
      "\n",
      "Error compiling Cython file:\n",
      "------------------------------------------------------------\n",
      "...\n",
      "                \"social_influence\": 0.01,\n",
      "                \"swingers\": 1,\n",
      "                \"malicious_N\":0,\n",
      "               }\n",
      "\n",
      "batch_run = BatchRunner(Network,\n",
      "                       ^\n",
      "------------------------------------------------------------\n",
      "\n",
      "C:\\Users\\dirk_\\.ipython\\cython\\_cython_magic_d16e47fa0b3241346a9df70c01d64844.pyx:14:24: undeclared name not builtin: Network\n",
      "\n",
      "Error compiling Cython file:\n",
      "------------------------------------------------------------\n",
      "...\n",
      "        \n",
      "#plt.plot(minority, label='minority')\n",
      "#plt.plot(majority, label='majority')\n",
      "#plt.legend()\n",
      "\n",
      "print(np.mean(majority))\n",
      "     ^\n",
      "------------------------------------------------------------\n",
      "\n",
      "C:\\Users\\dirk_\\.ipython\\cython\\_cython_magic_d16e47fa0b3241346a9df70c01d64844.pyx:43:6: undeclared name not builtin: np\n"
     ]
    },
    {
     "ename": "TypeError",
     "evalue": "object of type 'NoneType' has no len()",
     "output_type": "error",
     "traceback": [
      "\u001b[1;31m---------------------------------------------------------------------------\u001b[0m",
      "\u001b[1;31mTypeError\u001b[0m                                 Traceback (most recent call last)",
      "\u001b[1;32m<ipython-input-8-2bb4792707b9>\u001b[0m in \u001b[0;36m<module>\u001b[1;34m()\u001b[0m\n\u001b[1;32m----> 1\u001b[1;33m \u001b[0mget_ipython\u001b[0m\u001b[1;33m(\u001b[0m\u001b[1;33m)\u001b[0m\u001b[1;33m.\u001b[0m\u001b[0mrun_cell_magic\u001b[0m\u001b[1;33m(\u001b[0m\u001b[1;34m'cython'\u001b[0m\u001b[1;33m,\u001b[0m \u001b[1;34m'--annotate'\u001b[0m\u001b[1;33m,\u001b[0m \u001b[1;34m'\\nfrom mesa.batchrunner import BatchRunner\\n\\nfixed_params = {\"no_of_neighbors\": 4,\\n                \"network_type\": 1,\\n                \"beta_component\": .14,\\n                \"N\": 1000,\\n                \"similarity_treshold\": 0.025,\\n                \"social_influence\": 0.01,\\n                \"swingers\": 1,\\n                \"malicious_N\":0,\\n               }\\n\\nbatch_run = BatchRunner(Network,\\n                        iterations=5,\\n                        fixed_parameters=fixed_params,\\n                        max_steps=30,\\n                        model_reporters={\"preferences\": compute_preferences,\\n                                         \"opinions\": compute_opinions,\\n                                         \"preference_A\": compute_preference_A,\\n                                         \"preference_B\": compute_preference_B})\\nbatch_run.run_all()\\nrun_data = batch_run.get_model_vars_dataframe()\\nrun_data.head()\\n#print(run_data.preferences[0])\\n#print(run_data)\\n\\n\\nmajority = []\\nminority = []\\nfor run in run_data.Run: \\n    if(run_data.opinions[run]>0.5):\\n        majority.append(run_data.preference_B[run])\\n        minority.append(run_data.preference_A[run])\\n    else:\\n        minority.append(run_data.preference_B[run])\\n        majority.append(run_data.preference_A[run])\\n        \\n#plt.plot(minority, label=\\'minority\\')\\n#plt.plot(majority, label=\\'majority\\')\\n#plt.legend()\\n\\nprint(np.mean(majority))\\nprint(np.mean(minority))\\n        '\u001b[0m\u001b[1;33m)\u001b[0m\u001b[1;33m\u001b[0m\u001b[0m\n\u001b[0m",
      "\u001b[1;32m~\\Miniconda3\\lib\\site-packages\\IPython\\core\\interactiveshell.py\u001b[0m in \u001b[0;36mrun_cell_magic\u001b[1;34m(self, magic_name, line, cell)\u001b[0m\n\u001b[0;32m   2129\u001b[0m             \u001b[0mmagic_arg_s\u001b[0m \u001b[1;33m=\u001b[0m \u001b[0mself\u001b[0m\u001b[1;33m.\u001b[0m\u001b[0mvar_expand\u001b[0m\u001b[1;33m(\u001b[0m\u001b[0mline\u001b[0m\u001b[1;33m,\u001b[0m \u001b[0mstack_depth\u001b[0m\u001b[1;33m)\u001b[0m\u001b[1;33m\u001b[0m\u001b[0m\n\u001b[0;32m   2130\u001b[0m             \u001b[1;32mwith\u001b[0m \u001b[0mself\u001b[0m\u001b[1;33m.\u001b[0m\u001b[0mbuiltin_trap\u001b[0m\u001b[1;33m:\u001b[0m\u001b[1;33m\u001b[0m\u001b[0m\n\u001b[1;32m-> 2131\u001b[1;33m                 \u001b[0mresult\u001b[0m \u001b[1;33m=\u001b[0m \u001b[0mfn\u001b[0m\u001b[1;33m(\u001b[0m\u001b[0mmagic_arg_s\u001b[0m\u001b[1;33m,\u001b[0m \u001b[0mcell\u001b[0m\u001b[1;33m)\u001b[0m\u001b[1;33m\u001b[0m\u001b[0m\n\u001b[0m\u001b[0;32m   2132\u001b[0m             \u001b[1;32mreturn\u001b[0m \u001b[0mresult\u001b[0m\u001b[1;33m\u001b[0m\u001b[0m\n\u001b[0;32m   2133\u001b[0m \u001b[1;33m\u001b[0m\u001b[0m\n",
      "\u001b[1;32m<decorator-gen-796>\u001b[0m in \u001b[0;36mcython\u001b[1;34m(self, line, cell)\u001b[0m\n",
      "\u001b[1;32m~\\Miniconda3\\lib\\site-packages\\IPython\\core\\magic.py\u001b[0m in \u001b[0;36m<lambda>\u001b[1;34m(f, *a, **k)\u001b[0m\n\u001b[0;32m    185\u001b[0m     \u001b[1;31m# but it's overkill for just that one bit of state.\u001b[0m\u001b[1;33m\u001b[0m\u001b[1;33m\u001b[0m\u001b[0m\n\u001b[0;32m    186\u001b[0m     \u001b[1;32mdef\u001b[0m \u001b[0mmagic_deco\u001b[0m\u001b[1;33m(\u001b[0m\u001b[0marg\u001b[0m\u001b[1;33m)\u001b[0m\u001b[1;33m:\u001b[0m\u001b[1;33m\u001b[0m\u001b[0m\n\u001b[1;32m--> 187\u001b[1;33m         \u001b[0mcall\u001b[0m \u001b[1;33m=\u001b[0m \u001b[1;32mlambda\u001b[0m \u001b[0mf\u001b[0m\u001b[1;33m,\u001b[0m \u001b[1;33m*\u001b[0m\u001b[0ma\u001b[0m\u001b[1;33m,\u001b[0m \u001b[1;33m**\u001b[0m\u001b[0mk\u001b[0m\u001b[1;33m:\u001b[0m \u001b[0mf\u001b[0m\u001b[1;33m(\u001b[0m\u001b[1;33m*\u001b[0m\u001b[0ma\u001b[0m\u001b[1;33m,\u001b[0m \u001b[1;33m**\u001b[0m\u001b[0mk\u001b[0m\u001b[1;33m)\u001b[0m\u001b[1;33m\u001b[0m\u001b[0m\n\u001b[0m\u001b[0;32m    188\u001b[0m \u001b[1;33m\u001b[0m\u001b[0m\n\u001b[0;32m    189\u001b[0m         \u001b[1;32mif\u001b[0m \u001b[0mcallable\u001b[0m\u001b[1;33m(\u001b[0m\u001b[0marg\u001b[0m\u001b[1;33m)\u001b[0m\u001b[1;33m:\u001b[0m\u001b[1;33m\u001b[0m\u001b[0m\n",
      "\u001b[1;32m~\\Miniconda3\\lib\\site-packages\\Cython\\Build\\IpythonMagic.py\u001b[0m in \u001b[0;36mcython\u001b[1;34m(self, line, cell)\u001b[0m\n\u001b[0;32m    323\u001b[0m         \u001b[1;32mif\u001b[0m \u001b[0mneed_cythonize\u001b[0m\u001b[1;33m:\u001b[0m\u001b[1;33m\u001b[0m\u001b[0m\n\u001b[0;32m    324\u001b[0m             \u001b[0mextensions\u001b[0m \u001b[1;33m=\u001b[0m \u001b[0mself\u001b[0m\u001b[1;33m.\u001b[0m\u001b[0m_cythonize\u001b[0m\u001b[1;33m(\u001b[0m\u001b[0mmodule_name\u001b[0m\u001b[1;33m,\u001b[0m \u001b[0mcode\u001b[0m\u001b[1;33m,\u001b[0m \u001b[0mlib_dir\u001b[0m\u001b[1;33m,\u001b[0m \u001b[0margs\u001b[0m\u001b[1;33m,\u001b[0m \u001b[0mquiet\u001b[0m\u001b[1;33m=\u001b[0m\u001b[0margs\u001b[0m\u001b[1;33m.\u001b[0m\u001b[0mquiet\u001b[0m\u001b[1;33m)\u001b[0m\u001b[1;33m\u001b[0m\u001b[0m\n\u001b[1;32m--> 325\u001b[1;33m             \u001b[1;32massert\u001b[0m \u001b[0mlen\u001b[0m\u001b[1;33m(\u001b[0m\u001b[0mextensions\u001b[0m\u001b[1;33m)\u001b[0m \u001b[1;33m==\u001b[0m \u001b[1;36m1\u001b[0m\u001b[1;33m\u001b[0m\u001b[0m\n\u001b[0m\u001b[0;32m    326\u001b[0m             \u001b[0mextension\u001b[0m \u001b[1;33m=\u001b[0m \u001b[0mextensions\u001b[0m\u001b[1;33m[\u001b[0m\u001b[1;36m0\u001b[0m\u001b[1;33m]\u001b[0m\u001b[1;33m\u001b[0m\u001b[0m\n\u001b[0;32m    327\u001b[0m             \u001b[0mself\u001b[0m\u001b[1;33m.\u001b[0m\u001b[0m_code_cache\u001b[0m\u001b[1;33m[\u001b[0m\u001b[0mkey\u001b[0m\u001b[1;33m]\u001b[0m \u001b[1;33m=\u001b[0m \u001b[0mmodule_name\u001b[0m\u001b[1;33m\u001b[0m\u001b[0m\n",
      "\u001b[1;31mTypeError\u001b[0m: object of type 'NoneType' has no len()"
     ]
    }
   ],
   "source": [
    "from mesa.batchrunner import BatchRunner\n",
    "\n",
    "fixed_params = {\"no_of_neighbors\": 4,\n",
    "                \"network_type\": 1,\n",
    "                \"beta_component\": .14,\n",
    "                \"N\": 1000,\n",
    "                \"similarity_treshold\": 0.025,\n",
    "                \"social_influence\": 0.01,\n",
    "                \"swingers\": 1,\n",
    "                \"malicious_N\":0,\n",
    "               }\n",
    "\n",
    "batch_run = BatchRunner(Network,\n",
    "                        iterations=5,\n",
    "                        fixed_parameters=fixed_params,\n",
    "                        max_steps=30,\n",
    "                        model_reporters={\"preferences\": compute_preferences,\n",
    "                                         \"opinions\": compute_opinions,\n",
    "                                         \"preference_A\": compute_preference_A,\n",
    "                                         \"preference_B\": compute_preference_B})\n",
    "batch_run.run_all()\n",
    "run_data = batch_run.get_model_vars_dataframe()\n",
    "run_data.head()\n",
    "#print(run_data.preferences[0])\n",
    "#print(run_data)\n",
    "\n",
    "\n",
    "majority = []\n",
    "minority = []\n",
    "for run in run_data.Run: \n",
    "    if(run_data.opinions[run]>0.5):\n",
    "        majority.append(run_data.preference_B[run])\n",
    "        minority.append(run_data.preference_A[run])\n",
    "    else:\n",
    "        minority.append(run_data.preference_B[run])\n",
    "        majority.append(run_data.preference_A[run])\n",
    "        \n",
    "#plt.plot(minority, label='minority')\n",
    "#plt.plot(majority, label='majority')\n",
    "#plt.legend()\n",
    "\n",
    "print(np.mean(majority))\n",
    "print(np.mean(minority))\n",
    "        \n"
   ]
  },
  {
   "cell_type": "code",
   "execution_count": 1,
   "metadata": {},
   "outputs": [],
   "source": [
    "%reset -f"
   ]
  },
  {
   "cell_type": "code",
   "execution_count": 3,
   "metadata": {},
   "outputs": [],
   "source": [
    "from model import *\n",
    "from agents import *\n",
    "from globals import *\n",
    "from server import *\n",
    "from schedule import *\n",
    "from utility import *"
   ]
  },
  {
   "cell_type": "code",
   "execution_count": 4,
   "metadata": {
    "scrolled": false
   },
   "outputs": [
    {
     "name": "stderr",
     "output_type": "stream",
     "text": [
      "1it [00:04,  4.56s/it]"
     ]
    },
    {
     "name": "stdout",
     "output_type": "stream",
     "text": [
      "[[0.4583333333333333, 0.6348246788757491, 24], [0.45, 0.5926481769514192, 20], [0.45, 0.5794233402570372, 20], [0.4444444444444444, 0.5521656699553672, 18], [0.5, 0.63827955514044, 16], [0.4666666666666667, 0.5328664160885169, 15], [0.07692307692307693, 0.6067818580987023, 13], [0.38461538461538464, 0.62278936681493, 13], [0.46153846153846156, 0.5889493543323993, 13], [0.5, 0.5707428114102483, 12], [0.3333333333333333, 0.5035893781842294, 12], [0.6, 0.584364860476385, 10], [0.4444444444444444, 0.5704294799777896, 9]]\n"
     ]
    },
    {
     "name": "stderr",
     "output_type": "stream",
     "text": [
      "\n"
     ]
    }
   ],
   "source": [
    "from mesa.batchrunner import BatchRunner\n",
    "\n",
    "\n",
    "fixed_params = {\"no_of_neighbors\": 4,\n",
    "                \"network_type\": 1,\n",
    "                \"beta_component\": .14,\n",
    "                \"N\": 200,\n",
    "                \"similarity_treshold\": 0.025,\n",
    "                \"social_influence\": 0.01,\n",
    "                \"swingers\": 1}\n",
    "\n",
    "batch_run = BatchRunner(Network,\n",
    "                        iterations=1,\n",
    "                        fixed_parameters=fixed_params,\n",
    "                        max_steps=30,\n",
    "                        model_reporters={\"community_no\": community_no,\n",
    "                                         \"community_all\": community_all})\n",
    "                                         \n",
    "batch_run.run_all()\n",
    "run_data = batch_run.get_model_vars_dataframe()\n",
    "run_data.head()\n",
    "\n",
    "print(run_data.community_all[0])\n",
    "\n"
   ]
  },
  {
   "cell_type": "code",
   "execution_count": 6,
   "metadata": {},
   "outputs": [
    {
     "name": "stdout",
     "output_type": "stream",
     "text": [
      "   preferences  opinions  preference_A  preference_B  radical_opinions  \\\n",
      "0     0.481036     0.550      0.507750      0.459179             0.125   \n",
      "1     0.535419     0.475      0.545972      0.523756             0.100   \n",
      "2     0.509979     0.575      0.520875      0.501925             0.100   \n",
      "3     0.547833     0.700      0.599758      0.525580             0.175   \n",
      "4     0.485018     0.675      0.520116      0.468119             0.100   \n",
      "5     0.487762     0.700      0.521236      0.473416             0.075   \n",
      "6     0.543910     0.725      0.602300      0.521762             0.125   \n",
      "7     0.517163     0.775      0.590669      0.495822             0.100   \n",
      "8     0.492357     0.725      0.548581      0.471031             0.100   \n",
      "9     0.482344     0.725      0.532291      0.463399             0.050   \n",
      "\n",
      "   community_no                                      community_all  \n",
      "0             6  [[0.6363636363636364, 0.33505687238279036, 11]...  \n",
      "1             7  [[0.4666666666666667, 0.4936414863761148, 15],...  \n",
      "2             6  [[0.6666666666666666, 0.4731907215502744, 12],...  \n",
      "3             5  [[0.6153846153846154, 0.6136826368802718, 13],...  \n",
      "4             6  [[0.6666666666666666, 0.5913383673337792, 12],...  \n",
      "5             5  [[0.7142857142857143, 0.42830178697928406, 14]...  \n",
      "6             5  [[0.5454545454545454, 0.5750613170758915, 11],...  \n",
      "7             6  [[0.6923076923076923, 0.5354849878801076, 13],...  \n",
      "8             6  [[0.7272727272727273, 0.47203250107068195, 11]...  \n",
      "9             5  [[0.6153846153846154, 0.4748048688975074, 13],...  \n"
     ]
    }
   ],
   "source": [
    "model = Network(40,3,2,.15, 0.025, 0.01, 1)\n",
    "for i in range(10):\n",
    "    model.step()\n",
    "a = model.datacollector.get_model_vars_dataframe()\n",
    "\n",
    "print(a)"
   ]
  },
  {
   "cell_type": "code",
   "execution_count": 7,
   "metadata": {},
   "outputs": [],
   "source": [
    "from collections import Counter\n",
    "\n",
    "a = {\n",
    "    0: 0,\n",
    "    1: 1,\n",
    "    2: 2,\n",
    "    3: 3,\n",
    "    4: 0,\n",
    "    5: 0,\n",
    "    6: 1,\n",
    "    7: 2\n",
    "}"
   ]
  },
  {
   "cell_type": "code",
   "execution_count": 14,
   "metadata": {},
   "outputs": [
    {
     "name": "stdout",
     "output_type": "stream",
     "text": [
      "Counter({0: 3, 1: 2, 2: 2, 3: 1})\n"
     ]
    },
    {
     "ename": "IndexError",
     "evalue": "list index out of range",
     "output_type": "error",
     "traceback": [
      "\u001b[0;31m---------------------------------------------------------------------------\u001b[0m",
      "\u001b[0;31mIndexError\u001b[0m                                Traceback (most recent call last)",
      "\u001b[0;32m<ipython-input-14-68dc0b46ec44>\u001b[0m in \u001b[0;36m<module>\u001b[0;34m\u001b[0m\n\u001b[1;32m      1\u001b[0m \u001b[0mprint\u001b[0m\u001b[0;34m(\u001b[0m\u001b[0mCounter\u001b[0m\u001b[0;34m(\u001b[0m\u001b[0ma\u001b[0m\u001b[0;34m.\u001b[0m\u001b[0mvalues\u001b[0m\u001b[0;34m(\u001b[0m\u001b[0;34m)\u001b[0m\u001b[0;34m)\u001b[0m\u001b[0;34m)\u001b[0m\u001b[0;34m\u001b[0m\u001b[0;34m\u001b[0m\u001b[0m\n\u001b[0;32m----> 2\u001b[0;31m \u001b[0mvalue\u001b[0m\u001b[0;34m,\u001b[0m \u001b[0mcount\u001b[0m \u001b[0;34m=\u001b[0m \u001b[0mCounter\u001b[0m\u001b[0;34m(\u001b[0m\u001b[0ma\u001b[0m\u001b[0;34m.\u001b[0m\u001b[0mvalues\u001b[0m\u001b[0;34m(\u001b[0m\u001b[0;34m)\u001b[0m\u001b[0;34m)\u001b[0m\u001b[0;34m.\u001b[0m\u001b[0mmost_common\u001b[0m\u001b[0;34m(\u001b[0m\u001b[0;36m10\u001b[0m\u001b[0;34m)\u001b[0m\u001b[0;34m[\u001b[0m\u001b[0;36m56\u001b[0m\u001b[0;34m]\u001b[0m\u001b[0;34m\u001b[0m\u001b[0;34m\u001b[0m\u001b[0m\n\u001b[0m\u001b[1;32m      3\u001b[0m \u001b[0;34m\u001b[0m\u001b[0m\n\u001b[1;32m      4\u001b[0m \u001b[0mprint\u001b[0m\u001b[0;34m(\u001b[0m\u001b[0mvalue\u001b[0m\u001b[0;34m)\u001b[0m\u001b[0;34m\u001b[0m\u001b[0;34m\u001b[0m\u001b[0m\n\u001b[1;32m      5\u001b[0m \u001b[0mprint\u001b[0m\u001b[0;34m(\u001b[0m\u001b[0mcount\u001b[0m\u001b[0;34m)\u001b[0m\u001b[0;34m\u001b[0m\u001b[0;34m\u001b[0m\u001b[0m\n",
      "\u001b[0;31mIndexError\u001b[0m: list index out of range"
     ]
    }
   ],
   "source": [
    "value, count = Counter(a.values()).most_common(10)[56]\n",
    "\n",
    "print(value)\n",
    "print(count)"
   ]
  }
 ],
 "metadata": {
  "kernelspec": {
   "display_name": "Python 3",
   "language": "python",
   "name": "python3"
  },
  "language_info": {
   "codemirror_mode": {
    "name": "ipython",
    "version": 3
   },
   "file_extension": ".py",
   "mimetype": "text/x-python",
   "name": "python",
   "nbconvert_exporter": "python",
   "pygments_lexer": "ipython3",
   "version": "3.6.4"
  },
  "varInspector": {
   "cols": {
    "lenName": 16,
    "lenType": 16,
    "lenVar": 40
   },
   "kernels_config": {
    "python": {
     "delete_cmd_postfix": "",
     "delete_cmd_prefix": "del ",
     "library": "var_list.py",
     "varRefreshCmd": "print(var_dic_list())"
    },
    "r": {
     "delete_cmd_postfix": ") ",
     "delete_cmd_prefix": "rm(",
     "library": "var_list.r",
     "varRefreshCmd": "cat(var_dic_list()) "
    }
   },
   "types_to_exclude": [
    "module",
    "function",
    "builtin_function_or_method",
    "instance",
    "_Feature"
   ],
   "window_display": false
  }
 },
 "nbformat": 4,
 "nbformat_minor": 2
}
