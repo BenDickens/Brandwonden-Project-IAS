{
 "cells": [
  {
   "cell_type": "code",
   "execution_count": 1,
   "metadata": {},
   "outputs": [],
   "source": [
    "from model import *\n",
    "from agents import *\n",
    "from globals import *\n",
    "from server import *\n",
    "from schedule import *\n",
    "from utility import *"
   ]
  },
  {
   "cell_type": "code",
   "execution_count": null,
   "metadata": {},
   "outputs": [
    {
     "name": "stderr",
     "output_type": "stream",
     "text": [
      "133it [3:03:03, 90.87s/it]"
     ]
    }
   ],
   "source": [
    "from mesa.batchrunner import BatchRunner\n",
    "\n",
    "\n",
    "\n",
    "fixed_params = {\"no_of_neighbors\": 3,\n",
    "                \"network_type\": 1,\n",
    "                \"beta_component\": .25,\n",
    "                \"N\": 400,\n",
    "                \"similarity_treshold\": .1,\n",
    "                \"social_influence\": .03,\n",
    "                \"malicious_N\": 0,\n",
    "                \"echo_threshold\": 0.15\n",
    "               }\n",
    "\n",
    "variable_params= {\"swingers\": range(0,50,1)}\n",
    "\n",
    "\n",
    "batch_run = BatchRunner(Network,\n",
    "                        iterations=3,\n",
    "                        fixed_parameters=fixed_params,\n",
    "                        variable_parameters=variable_params,\n",
    "                        max_steps=100,\n",
    "                        model_reporters={\"preferences\": compute_preferences,\n",
    "                \"opinion\": compute_opinions,\n",
    "                \"radical_opinions\": compute_radical_opinions,\n",
    "                \"community_no\": community_no,\n",
    "                \"community_all\": community_all,\n",
    "                \"echo_no\": echo_no})\n",
    "batch_run.run_all()\n",
    "run_data = batch_run.get_model_vars_dataframe()\n",
    "print(run_data)\n"
   ]
  },
  {
   "cell_type": "code",
   "execution_count": 4,
   "metadata": {},
   "outputs": [
    {
     "name": "stdout",
     "output_type": "stream",
     "text": [
      "0    0.0700\n",
      "1    0.0800\n",
      "2    0.0950\n",
      "3    0.0700\n",
      "4    0.0750\n",
      "5    0.0725\n",
      "6    0.0525\n",
      "7    0.0625\n",
      "8    0.0625\n",
      "9    0.0450\n",
      "Name: radical_opinions, dtype: float64\n"
     ]
    }
   ],
   "source": [
    "#run_data.community_all.to_pickle('data1.csv')\n",
    "print(run_data.radical_opinions)"
   ]
  },
  {
   "cell_type": "code",
   "execution_count": 5,
   "metadata": {},
   "outputs": [
    {
     "data": {
      "text/plain": [
       "[<matplotlib.lines.Line2D at 0x7f521e77cbe0>]"
      ]
     },
     "execution_count": 5,
     "metadata": {},
     "output_type": "execute_result"
    },
    {
     "data": {
      "image/png": "[encoded data removed]",
      "text/plain": [
       "<Figure size 432x288 with 1 Axes>"
      ]
     },
     "metadata": {
      "needs_background": "light"
     },
     "output_type": "display_data"
    }
   ],
   "source": [
    "plt.plot(run_data.radical_opinions)"
   ]
  },
  {
   "cell_type": "code",
   "execution_count": null,
   "metadata": {},
   "outputs": [],
   "source": []
  }
 ],
 "metadata": {
  "kernelspec": {
   "display_name": "Python 3",
   "language": "python",
   "name": "python3"
  },
  "language_info": {
   "codemirror_mode": {
    "name": "ipython",
    "version": 3
   },
   "file_extension": ".py",
   "mimetype": "text/x-python",
   "name": "python",
   "nbconvert_exporter": "python",
   "pygments_lexer": "ipython3",
   "version": "3.6.3"
  },
  "varInspector": {
   "cols": {
    "lenName": 16,
    "lenType": 16,
    "lenVar": 40
   },
   "kernels_config": {
    "python": {
     "delete_cmd_postfix": "",
     "delete_cmd_prefix": "del ",
     "library": "var_list.py",
     "varRefreshCmd": "print(var_dic_list())"
    },
    "r": {
     "delete_cmd_postfix": ") ",
     "delete_cmd_prefix": "rm(",
     "library": "var_list.r",
     "varRefreshCmd": "cat(var_dic_list()) "
    }
   },
   "types_to_exclude": [
    "module",
    "function",
    "builtin_function_or_method",
    "instance",
    "_Feature"
   ],
   "window_display": false
  }
 },
 "nbformat": 4,
 "nbformat_minor": 2
}
